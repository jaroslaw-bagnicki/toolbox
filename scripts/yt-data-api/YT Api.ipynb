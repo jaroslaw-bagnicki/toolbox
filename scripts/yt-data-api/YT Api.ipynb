{
 "cells": [
  {
   "cell_type": "code",
   "execution_count": 39,
   "metadata": {
    "dotnet_interactive": {
     "language": "pwsh"
    },
    "polyglot_notebook": {
     "kernelName": "pwsh"
    },
    "vscode": {
     "languageId": "polyglot-notebook"
    }
   },
   "outputs": [],
   "source": [
    "$playlists = @(\n",
    "    [PSCustomObject]@{\n",
    "        Id = \"PL8dPuuaLjXtNlUrzyH5r6jN9ulIgZBpdo\"\n",
    "        Author = \"CrashCourse\"\n",
    "        Title = \"Computer Science\"\n",
    "        Items = @()\n",
    "        ItemCount = 0\n",
    "        TotalDuration = New-TimeSpan\n",
    "    }\n",
    "    [PSCustomObject]@{\n",
    "        Id = \"PLxfrSxK7P38X7XfG4X8Y9cdOURvC7ObMF\"\n",
    "        Author = \"Intermation\"\n",
    "        Title = \"Computer Organization and Design Fundamentals\"\n",
    "        Items = @()\n",
    "        ItemCount = 0\n",
    "        TotalDuration = New-TimeSpan\n",
    "    }\n",
    ")\n"
   ]
  },
  {
   "cell_type": "code",
   "execution_count": 40,
   "metadata": {
    "dotnet_interactive": {
     "language": "pwsh"
    },
    "polyglot_notebook": {
     "kernelName": "pwsh"
    },
    "vscode": {
     "languageId": "polyglot-notebook"
    }
   },
   "outputs": [
    {
     "data": {
      "text/plain": []
     },
     "metadata": {},
     "output_type": "display_data"
    }
   ],
   "source": [
    "foreach ($playlist in $playlists) {\n",
    "    $items = .\\Get-YTPlaylistVideos.ps1 -PlaylistId $playlist.Id\n",
    "    $playlist.Items += $items\n",
    "    $playlist.ItemCount += $items.Count\n",
    "\n",
    "\n",
    "    foreach ($item in $items) {\n",
    "        $playlist.TotalDuration += $item.Duration\n",
    "    }\n",
    "}\n"
   ]
  },
  {
   "cell_type": "code",
   "execution_count": 53,
   "metadata": {
    "dotnet_interactive": {
     "language": "pwsh"
    },
    "polyglot_notebook": {
     "kernelName": "pwsh"
    },
    "vscode": {
     "languageId": "polyglot-notebook"
    }
   },
   "outputs": [
    {
     "name": "stdout",
     "output_type": "stream",
     "text": [
      "\n",
      "\u001b[32;1mId            : \u001b[0mPL8dPuuaLjXtNlUrzyH5r6jN9ulIgZBpdo\n",
      "\u001b[32;1mAuthor        : \u001b[0mCrashCourse\n",
      "\u001b[32;1mTitle         : \u001b[0mComputer Science\n",
      "\u001b[32;1mItems         : \u001b[0m{@{VideoId=tpIctyqH29Q; Position=0; Title=Crash Course Computer Science Preview; \n",
      "                Duration=00:02:45}, @{VideoId=O5nskjZ_GoI; Position=1; Title=Early Computing: \n",
      "                Crash Course Computer Science #1; Duration=00:11:53}, @{VideoId=LN0ucKNX0hc; \n",
      "                Position=2; Title=Electronic Computing: Crash Course Computer Science #2; \n",
      "                Duration=00:10:44}, @{VideoId=gI-qXk7XojA; Position=3; Title=Boolean Logic & Logic \n",
      "                Gates: Crash Course Computer Science #3; Duration=00:10:07}…}\n",
      "\u001b[32;1mItemCount     : \u001b[0m41\n",
      "\u001b[32;1mTotalDuration : \u001b[0m07:54:57\n",
      "\n",
      "\u001b[32;1mId            : \u001b[0mPLxfrSxK7P38X7XfG4X8Y9cdOURvC7ObMF\n",
      "\u001b[32;1mAuthor        : \u001b[0mIntermation\n",
      "\u001b[32;1mTitle         : \u001b[0mComputer Organization and Design Fundamentals\n",
      "\u001b[32;1mItems         : \u001b[0m{@{VideoId=2jfoLxQXq3Y; Position=0; Title=Ep 001: Pulse Trains - Identifying the \n",
      "                Components of a Digital Signal; Duration=00:10:45}, @{VideoId=7QH8lcX8ero; \n",
      "                Position=1; Title=Ep 002: Duty Cycle and Pulse Width Modulation   How to Dim an \n",
      "                LED; Duration=00:09:14}, @{VideoId=eE9LB4NgAVQ; Position=2; Title=Ep 003: Intro to \n",
      "                Binary - How Computers Count without Fingers; Duration=00:09:36}, \n",
      "                @{VideoId=hBdGOb8w4DA; Position=3; Title=Ep 004: Binary to Decimal Conversion; \n",
      "                Duration=00:09:26}…}\n",
      "\u001b[32;1mItemCount     : \u001b[0m113\n",
      "\u001b[32;1mTotalDuration : \u001b[0m1.09:12:28\n",
      "\n",
      "\n"
     ]
    }
   ],
   "source": [
    "$playlists"
   ]
  }
 ],
 "metadata": {
  "language_info": {
   "name": "csharp"
  },
  "orig_nbformat": 4
 },
 "nbformat": 4,
 "nbformat_minor": 2
}
